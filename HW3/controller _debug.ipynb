{
 "cells": [
  {
   "cell_type": "code",
   "execution_count": 1,
   "metadata": {},
   "outputs": [],
   "source": [
    "import cv2\n",
    "import numpy as np\n",
    "import os \n",
    "import glob\n",
    "import matplotlib.pyplot as plt"
   ]
  },
  {
   "cell_type": "code",
   "execution_count": null,
   "metadata": {},
   "outputs": [],
   "source": []
  },
  {
   "cell_type": "code",
   "execution_count": 2,
   "metadata": {},
   "outputs": [],
   "source": [
    "# path = \"C:/Users/KUNG/Desktop/Deep learning_computer_HW/Q1_Image\"\n",
    "row = 8\n",
    "column = 11\n",
    "CHECKERBOARD = (row,column)\n",
    "criteria = (cv2.TERM_CRITERIA_EPS + cv2.TERM_CRITERIA_MAX_ITER, 30, 0.001)\n",
    "\n",
    "obj_points = []\n",
    "im_points = []\n",
    "\n",
    "points3D = np.zeros((1, row * column, 3), np.float32)\n",
    "points3D[0,:,:2] = np.mgrid[0:row , 0:column].T.reshape(-1,2)\n"
   ]
  },
  {
   "cell_type": "code",
   "execution_count": 4,
   "metadata": {},
   "outputs": [
    {
     "ename": "error",
     "evalue": "OpenCV(4.6.0) D:\\a\\opencv-python\\opencv-python\\opencv\\modules\\calib3d\\src\\calibration.cpp:3694: error: (-215:Assertion failed) nimages > 0 in function 'cv::calibrateCameraRO'\n",
     "output_type": "error",
     "traceback": [
      "\u001b[1;31m---------------------------------------------------------------------------\u001b[0m",
      "\u001b[1;31merror\u001b[0m                                     Traceback (most recent call last)",
      "\u001b[1;32mc:\\Users\\KUNG\\Desktop\\Deep learning_computer_HW\\controller _debug.ipynb Cell 4\u001b[0m in \u001b[0;36m<cell line: 17>\u001b[1;34m()\u001b[0m\n\u001b[0;32m     <a href='vscode-notebook-cell:/c%3A/Users/KUNG/Desktop/Deep%20learning_computer_HW/controller%20_debug.ipynb#W3sZmlsZQ%3D%3D?line=13'>14</a>\u001b[0m         corners2 \u001b[39m=\u001b[39m cv2\u001b[39m.\u001b[39mcornerSubPix(gray, corners, (\u001b[39m11\u001b[39m,\u001b[39m11\u001b[39m), (\u001b[39m-\u001b[39m\u001b[39m1\u001b[39m,\u001b[39m-\u001b[39m\u001b[39m1\u001b[39m), criteria)\n\u001b[0;32m     <a href='vscode-notebook-cell:/c%3A/Users/KUNG/Desktop/Deep%20learning_computer_HW/controller%20_debug.ipynb#W3sZmlsZQ%3D%3D?line=14'>15</a>\u001b[0m         im_points\u001b[39m.\u001b[39mappend(corners2)\n\u001b[1;32m---> <a href='vscode-notebook-cell:/c%3A/Users/KUNG/Desktop/Deep%20learning_computer_HW/controller%20_debug.ipynb#W3sZmlsZQ%3D%3D?line=16'>17</a>\u001b[0m ret, cam_mtx, distCoeffs, rvecs, tvecs \u001b[39m=\u001b[39m cv2\u001b[39m.\u001b[39;49mcalibrateCamera(obj_points, im_points, gray\u001b[39m.\u001b[39;49mshape[::\u001b[39m-\u001b[39;49m\u001b[39m1\u001b[39;49m],\u001b[39mNone\u001b[39;49;00m, \u001b[39mNone\u001b[39;49;00m)\n\u001b[0;32m     <a href='vscode-notebook-cell:/c%3A/Users/KUNG/Desktop/Deep%20learning_computer_HW/controller%20_debug.ipynb#W3sZmlsZQ%3D%3D?line=18'>19</a>\u001b[0m rvecs \u001b[39m=\u001b[39m np\u001b[39m.\u001b[39marray(rvecs)\n\u001b[0;32m     <a href='vscode-notebook-cell:/c%3A/Users/KUNG/Desktop/Deep%20learning_computer_HW/controller%20_debug.ipynb#W3sZmlsZQ%3D%3D?line=19'>20</a>\u001b[0m r_mtx \u001b[39m=\u001b[39m np\u001b[39m.\u001b[39mzeros([\u001b[39mlen\u001b[39m(image_folder),\u001b[39m3\u001b[39m,\u001b[39m3\u001b[39m])\n",
      "\u001b[1;31merror\u001b[0m: OpenCV(4.6.0) D:\\a\\opencv-python\\opencv-python\\opencv\\modules\\calib3d\\src\\calibration.cpp:3694: error: (-215:Assertion failed) nimages > 0 in function 'cv::calibrateCameraRO'\n"
     ]
    }
   ],
   "source": [
    "obj_points = []\n",
    "im_points = []\n",
    "\n",
    "points3D = np.zeros((1, row * column, 3), np.float32)\n",
    "points3D[0,:,:2] = np.mgrid[0:row , 0:column].T.reshape(-1,2)\n",
    "    # Loop \n",
    "image_folder = glob.glob('{}'.format(\"imR.png\"))\n",
    "for files in image_folder:\n",
    "    image = cv2.imread(files)\n",
    "    gray = cv2.cvtColor(image, cv2.COLOR_BGR2GRAY)\n",
    "    ret, corners = cv2.findChessboardCorners(gray,CHECKERBOARD, cv2.CALIB_CB_ADAPTIVE_THRESH + cv2.CALIB_CB_FAST_CHECK + cv2.CALIB_CB_NORMALIZE_IMAGE)\n",
    "    if ret == True:\n",
    "        obj_points.append(points3D)\n",
    "        corners2 = cv2.cornerSubPix(gray, corners, (11,11), (-1,-1), criteria)\n",
    "        im_points.append(corners2)\n",
    "\n",
    "ret, cam_mtx, distCoeffs, rvecs, tvecs = cv2.calibrateCamera(obj_points, im_points, gray.shape[::-1],None, None)\n",
    "\n",
    "rvecs = np.array(rvecs)\n",
    "r_mtx = np.zeros([len(image_folder),3,3])\n",
    "\n",
    "for idx , n in enumerate(rvecs):\n",
    "    matrix, jacobian = cv2.Rodrigues(n)\n",
    "    r_mtx[idx,:,:] = matrix\n",
    "\n",
    "ext_mtx = np.append(r_mtx, tvecs, axis =2)\n",
    "print(ext_mtx)\n",
    "\n"
   ]
  },
  {
   "cell_type": "code",
   "execution_count": 52,
   "metadata": {},
   "outputs": [
    {
     "data": {
      "text/plain": [
       "array([[[ 23,  33, 147],\n",
       "        [ 23,  34, 146],\n",
       "        [ 23,  34, 146],\n",
       "        ...,\n",
       "        [207, 207, 210],\n",
       "        [206, 206, 209],\n",
       "        [205, 205, 208]],\n",
       "\n",
       "       [[ 24,  34, 148],\n",
       "        [ 23,  33, 147],\n",
       "        [ 23,  33, 147],\n",
       "        ...,\n",
       "        [206, 205, 206],\n",
       "        [208, 204, 206],\n",
       "        [209, 205, 207]],\n",
       "\n",
       "       [[ 24,  34, 148],\n",
       "        [ 23,  33, 147],\n",
       "        [ 23,  33, 147],\n",
       "        ...,\n",
       "        [199, 196, 197],\n",
       "        [200, 195, 196],\n",
       "        [202, 197, 198]],\n",
       "\n",
       "       ...,\n",
       "\n",
       "       [[117, 134, 148],\n",
       "        [105, 120, 136],\n",
       "        [ 87,  98, 118],\n",
       "        ...,\n",
       "        [ 15,  36,  68],\n",
       "        [ 16,  37,  69],\n",
       "        [ 17,  37,  72]],\n",
       "\n",
       "       [[123, 136, 156],\n",
       "        [104, 115, 137],\n",
       "        [ 82,  90, 119],\n",
       "        ...,\n",
       "        [ 16,  33,  72],\n",
       "        [ 17,  34,  73],\n",
       "        [ 17,  35,  72]],\n",
       "\n",
       "       [[133, 145, 164],\n",
       "        [102, 111, 136],\n",
       "        [ 74,  80, 116],\n",
       "        ...,\n",
       "        [ 16,  35,  73],\n",
       "        [ 18,  37,  75],\n",
       "        [ 19,  37,  74]]], dtype=uint8)"
      ]
     },
     "execution_count": 52,
     "metadata": {},
     "output_type": "execute_result"
    }
   ],
   "source": [
    "image = cv2.imread(\"imR.png\")\n",
    "image"
   ]
  },
  {
   "cell_type": "code",
   "execution_count": 227,
   "metadata": {},
   "outputs": [
    {
     "data": {
      "text/plain": [
       "(1904, 2796, 3)"
      ]
     },
     "execution_count": 227,
     "metadata": {},
     "output_type": "execute_result"
    }
   ],
   "source": [
    "image.shape[:3]"
   ]
  },
  {
   "cell_type": "code",
   "execution_count": 132,
   "metadata": {},
   "outputs": [
    {
     "data": {
      "text/plain": [
       "array([[ 23,  33],\n",
       "       [ 23,  34],\n",
       "       [ 23,  34],\n",
       "       ...,\n",
       "       [207, 207],\n",
       "       [206, 206],\n",
       "       [205, 205]], dtype=uint8)"
      ]
     },
     "execution_count": 132,
     "metadata": {},
     "output_type": "execute_result"
    }
   ],
   "source": [
    "a= image[0,:,:2]\n",
    "a"
   ]
  },
  {
   "cell_type": "code",
   "execution_count": 226,
   "metadata": {},
   "outputs": [
    {
     "data": {
      "text/plain": [
       "(1904,)"
      ]
     },
     "execution_count": 226,
     "metadata": {},
     "output_type": "execute_result"
    }
   ],
   "source": [
    "image.shape[::3]\n"
   ]
  },
  {
   "cell_type": "code",
   "execution_count": 135,
   "metadata": {},
   "outputs": [],
   "source": [
    "points3D = np.zeros((1, row * column, 3), np.float32)\n",
    "points3D[0, :, :2] = np.mgrid[0:row, 0:column].T.reshape(-1, 2)"
   ]
  },
  {
   "cell_type": "code",
   "execution_count": 139,
   "metadata": {},
   "outputs": [
    {
     "data": {
      "text/plain": [
       "(1, 88, 3)"
      ]
     },
     "execution_count": 139,
     "metadata": {},
     "output_type": "execute_result"
    }
   ],
   "source": [
    "points3D.shape"
   ]
  },
  {
   "cell_type": "code",
   "execution_count": null,
   "metadata": {},
   "outputs": [],
   "source": []
  },
  {
   "cell_type": "code",
   "execution_count": null,
   "metadata": {},
   "outputs": [],
   "source": []
  }
 ],
 "metadata": {
  "kernelspec": {
   "display_name": "Python 3.9.12 ('base')",
   "language": "python",
   "name": "python3"
  },
  "language_info": {
   "codemirror_mode": {
    "name": "ipython",
    "version": 3
   },
   "file_extension": ".py",
   "mimetype": "text/x-python",
   "name": "python",
   "nbconvert_exporter": "python",
   "pygments_lexer": "ipython3",
   "version": "3.9.12"
  },
  "orig_nbformat": 4,
  "vscode": {
   "interpreter": {
    "hash": "451549aa6b6c6ea8c9b2371ac87a56e3b77e72482b5e25dbd61e74a921099481"
   }
  }
 },
 "nbformat": 4,
 "nbformat_minor": 2
}
